{
 "cells": [
  {
   "cell_type": "markdown",
   "id": "92f63c81-c134-4ddd-a5be-b18e9af4b67c",
   "metadata": {},
   "source": [
    "# Load in the data for the processing"
   ]
  },
  {
   "cell_type": "code",
   "execution_count": 1,
   "id": "65f7b530-128d-4869-b19a-5ca84fbf748d",
   "metadata": {},
   "outputs": [],
   "source": [
    "# import the necessary packages\n",
    "import imutils\n",
    "import matplotlib.pyplot as plt\n",
    "\n",
    "import os\n",
    "import numpy as np\n",
    "from scipy import ndimage\n",
    "from tqdm import tqdm  # ! this might result into problem with 'object'\n",
    "import pandas as pd\n",
    "import random\n",
    "import glob\n",
    "from skimage import io\n",
    "\n",
    "import argparse\n",
    "import time\n",
    "import cv2"
   ]
  },
  {
   "cell_type": "code",
   "execution_count": 3,
   "id": "f9da1a58-8eb0-4508-a2d2-c55760eece35",
   "metadata": {},
   "outputs": [
    {
     "name": "stdout",
     "output_type": "stream",
     "text": [
      "(15, 20, 1040, 1392)\n"
     ]
    }
   ],
   "source": [
    "rawData = np.load('./rawGray15.npy')\n",
    "print(rawData.shape)"
   ]
  },
  {
   "cell_type": "code",
   "execution_count": 4,
   "id": "109b4843-9779-4764-a749-32bc263e7143",
   "metadata": {},
   "outputs": [
    {
     "name": "stdout",
     "output_type": "stream",
     "text": [
      "(15, 20, 1040, 1392)\n"
     ]
    }
   ],
   "source": [
    "rawData1 = np.load('./biMasks15.npy')\n",
    "print(rawData1.shape)"
   ]
  },
  {
   "cell_type": "code",
   "execution_count": 9,
   "id": "989e2a75-fa3a-4abb-b0a4-f73c798fffa3",
   "metadata": {},
   "outputs": [
    {
     "data": {
      "text/plain": [
       "<matplotlib.image.AxesImage at 0x2cdf07847c8>"
      ]
     },
     "execution_count": 9,
     "metadata": {},
     "output_type": "execute_result"
    },
    {
     "data": {
      "image/png": "[encoded data removed]",
      "text/plain": [
       "<Figure size 432x288 with 1 Axes>"
      ]
     },
     "metadata": {
      "needs_background": "light"
     },
     "output_type": "display_data"
    }
   ],
   "source": [
    "plt.imshow(rawData1[0,19,...], cmap='gray')"
   ]
  },
  {
   "cell_type": "code",
   "execution_count": null,
   "id": "71d309ce-6102-4880-be73-b5b92e2afe1b",
   "metadata": {},
   "outputs": [],
   "source": []
  }
 ],
 "metadata": {
  "kernelspec": {
   "display_name": "Python 3 (ipykernel)",
   "language": "python",
   "name": "python3"
  },
  "language_info": {
   "codemirror_mode": {
    "name": "ipython",
    "version": 3
   },
   "file_extension": ".py",
   "mimetype": "text/x-python",
   "name": "python",
   "nbconvert_exporter": "python",
   "pygments_lexer": "ipython3",
   "version": "3.7.13"
  }
 },
 "nbformat": 4,
 "nbformat_minor": 5
}
