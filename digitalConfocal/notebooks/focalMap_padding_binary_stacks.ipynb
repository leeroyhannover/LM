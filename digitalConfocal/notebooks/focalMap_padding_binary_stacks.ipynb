{
 "cells": [
  {
   "cell_type": "markdown",
   "id": "769cff1c",
   "metadata": {},
   "source": [
    "#### Binary the feature map and fill the hole \n"
   ]
  },
  {
   "cell_type": "code",
   "execution_count": 1,
   "id": "5d538266",
   "metadata": {},
   "outputs": [],
   "source": [
    "# import the necessary packages\n",
    "import imutils\n",
    "import matplotlib.pyplot as plt\n",
    "\n",
    "import os\n",
    "import numpy as np\n",
    "from scipy import ndimage\n",
    "from tqdm import tqdm  # ! this might result into problem with 'object'\n",
    "import pandas as pd\n",
    "import random\n",
    "import glob\n",
    "from skimage import io\n",
    "\n",
    "import argparse\n",
    "import time\n",
    "import cv2\n",
    "\n",
    "import tifffile\n",
    "import napari"
   ]
  },
  {
   "cell_type": "markdown",
   "id": "8a62ea96",
   "metadata": {},
   "source": [
    "#### Import the data "
   ]
  },
  {
   "cell_type": "code",
   "execution_count": 2,
   "id": "8e469aba",
   "metadata": {},
   "outputs": [],
   "source": [
    "# write a stack of image in tif\n",
    "\n",
    "def writeStack(stack, path, name):\n",
    "#     with tifffile.TiffWriter(path+'/' + 'fMax.tif') as tif:\n",
    "    with tifffile.TiffWriter(path+'/' + name) as tif:\n",
    "      for i in range(stack.shape[0]):\n",
    "        filename = f\"image_{i}\"\n",
    "        tif.save(stack[i,...], photometric='minisblack', description=filename, metadata=None)"
   ]
  },
  {
   "cell_type": "code",
   "execution_count": 3,
   "id": "284ecbc1",
   "metadata": {},
   "outputs": [],
   "source": [
    "# visualization for two images\n",
    "\n",
    "def subShow(IMG1, IMG2):\n",
    "    plt.figure()\n",
    "    plt.subplot(1,2,1)\n",
    "    plt.imshow(IMG1, cmap='gray')\n",
    "    plt.subplot(1,2,2)\n",
    "    plt.imshow(IMG2, cmap='gray')\n",
    "    plt.show()"
   ]
  },
  {
   "cell_type": "code",
   "execution_count": 4,
   "id": "a9324c79",
   "metadata": {},
   "outputs": [],
   "source": [
    "# load data. the dtype is uint8\n",
    "\n",
    "savedPath = 'H:/My Drive/rawData/HZDR/LM/fMax_zebrafish/padMax' # google drive\n",
    "\n",
    "# rawGray = np.load(savedPath+'/final/rawGray.npy')\n",
    "featureMap = np.load(savedPath+'/final/fMaxPad15.npy')"
   ]
  },
  {
   "cell_type": "code",
   "execution_count": 5,
   "id": "b643c62b-540b-441e-a1bc-cdd40b1987ec",
   "metadata": {},
   "outputs": [
    {
     "name": "stdout",
     "output_type": "stream",
     "text": [
      "(15, 20, 1040, 1392)\n"
     ]
    }
   ],
   "source": [
    "print(featureMap.shape)"
   ]
  },
  {
   "cell_type": "code",
   "execution_count": null,
   "id": "7afb3d5b",
   "metadata": {},
   "outputs": [],
   "source": [
    "# write the feature map as tif for imagej\n",
    "\n",
    "writeStack(featureMap[0,...], savedPath, 'fMax.tif')\n",
    "writeStack(rawGray[0,...], savedPath, 'raw.tif')\n",
    "\n",
    "# test = io.imread(savedPath + './testImagej/'+ 'fMax.tif')  \n",
    "# viewer = napari.view_image(test)\n",
    "# napari.run() "
   ]
  },
  {
   "cell_type": "code",
   "execution_count": null,
   "id": "bd68c346",
   "metadata": {},
   "outputs": [],
   "source": [
    "# read into the raw data\n",
    "\n",
    "path = 'F:/Data/MLID/LM/fMax_zebrafish/Pad/final/'\n",
    "\n",
    "test = np.load(path + 'fMaxPad.npy')"
   ]
  },
  {
   "cell_type": "code",
   "execution_count": null,
   "id": "d0ca092c",
   "metadata": {},
   "outputs": [],
   "source": [
    "NUM = 19\n",
    "# plt.imshow(test[0,NUM,...],cmap='gray')\n",
    "\n",
    "subShow(test[0,0,...],test[0,19,...] )\n"
   ]
  },
  {
   "cell_type": "code",
   "execution_count": null,
   "id": "2256b468",
   "metadata": {},
   "outputs": [],
   "source": [
    "import napari\n",
    "\n",
    "viewer1 = napari.view_image(test[0,...])  # visualize the volume in layers\n",
    "napari.run() "
   ]
  },
  {
   "cell_type": "code",
   "execution_count": null,
   "id": "8760ab09",
   "metadata": {},
   "outputs": [],
   "source": [
    "# 将两副图片进行合并显示\n",
    "\n",
    "NUM = 0  # use the bottom image for the standard seg\n",
    "\n",
    "testMap = featureMap[0,NUM,...]\n",
    "testIMG = rawGray[0,NUM,...]\n",
    "\n",
    "sumImg = testMap+testIMG\n",
    "sumImg = np.interp(sumImg, (sumImg.min(), sumImg.max()), (0, 1))\n",
    "\n",
    "plt.imshow(sumImg, cmap='gray')\n"
   ]
  },
  {
   "cell_type": "code",
   "execution_count": null,
   "id": "10edc356",
   "metadata": {},
   "outputs": [],
   "source": [
    "test1 = test[1,...]\n",
    "test2 = np.mean(test1, axis=0)"
   ]
  },
  {
   "cell_type": "code",
   "execution_count": null,
   "id": "59b88360",
   "metadata": {},
   "outputs": [],
   "source": [
    "# binary the mask with otsu in stacks\n",
    "from skimage import data,filters\n",
    "from skimage.morphology import reconstruction\n",
    "\n",
    "def binaryMap(stack, refNUM):\n",
    "    biStacks = []\n",
    "    for i in range(stack.shape[0]):\n",
    "        refMapT = stack[i,refNUM,...]  # refNUM image as reference\n",
    "        threshT = filters.threshold_otsu(refMapT)\n",
    "        \n",
    "        stackT = stack[i,...] > (threshT)\n",
    "        stackT[:,1039:,:] = 1\n",
    "        \n",
    "        # filled the hole\n",
    "        biStack = []\n",
    "        for j in range(stackT.shape[0]):\n",
    "            \n",
    "            seed = np.copy(stackT[j,...])\n",
    "            seed[1:-1, 1:-1] = stackT[j,...].max()\n",
    "            mask = stackT[j,...]\n",
    "\n",
    "            filledT = reconstruction(seed, mask, method='erosion')\n",
    "            \n",
    "            biStack.append(filledT)\n",
    "            \n",
    "        biStacks.append(np.asarray(biStack))\n",
    "    return biStacks\n",
    "            "
   ]
  },
  {
   "cell_type": "code",
   "execution_count": null,
   "id": "4d5fcbdb",
   "metadata": {},
   "outputs": [],
   "source": [
    "biStacks = binaryMap(featureMap[:15,...], 19)\n",
    "biStacks = np.asarray(biStacks)"
   ]
  },
  {
   "cell_type": "code",
   "execution_count": null,
   "id": "6d5c7278",
   "metadata": {},
   "outputs": [],
   "source": [
    "import napari\n",
    "\n",
    "viewer1 = napari.view_image(biStacks[0,...])  # visualize the volume in layers\n",
    "napari.run() "
   ]
  },
  {
   "cell_type": "code",
   "execution_count": null,
   "id": "7dc856a4",
   "metadata": {},
   "outputs": [],
   "source": [
    "# saved the processed data\n",
    "savedPath = 'F:/Data/MLID/LM/fMax_zebrafish/padMax'\n",
    "\n",
    "stackScale = np.interp(biStacks, (biStacks.min(), biStacks.max()), (0, 255))\n",
    "stackScale = stackScale.astype('uint8')\n",
    "np.save(savedPath + '/final/biMasks.npy', stackScale)"
   ]
  },
  {
   "cell_type": "code",
   "execution_count": null,
   "id": "725510b0",
   "metadata": {},
   "outputs": [],
   "source": [
    "# 记载更新其他的几个数据\n",
    "savedPath = 'F:/Data/MLID/LM/fMax_zebrafish/padMax'\n",
    "\n",
    "gray = np.load(savedPath + '/final/rawGray.npy')\n",
    "np.save(savedPath + '/final/rawGray15.npy', gray[:15,...])\n",
    "\n",
    "fMap = np.load(savedPath + '/final/fMaxPad.npy')\n",
    "np.save(savedPath + '/final/fMaxPad15.npy', fMap[:15,...])\n"
   ]
  },
  {
   "cell_type": "code",
   "execution_count": null,
   "id": "054692fb",
   "metadata": {},
   "outputs": [],
   "source": [
    "# 单张图片上上的测试\n",
    "from skimage import data,filters\n",
    "\n",
    "NUM = 19  # use the bottom image for the standard seg\n",
    "\n",
    "testMap = featureMap[0,NUM,...]\n",
    "thresh = filters.threshold_otsu(testMap)\n",
    "binaryOtsu = testMap > (thresh)\n",
    "\n",
    "# 封闭底部的空腔\n",
    "# binaryOtsu = binaryOtsu.astype(int)\n",
    "binaryOtsu[1039:,...] = 1\n",
    "\n",
    "subShow(binaryOtsu, testMap)"
   ]
  },
  {
   "cell_type": "code",
   "execution_count": null,
   "id": "f92e671f",
   "metadata": {},
   "outputs": [],
   "source": [
    "# fill the hole\n",
    "\n",
    "from skimage.morphology import reconstruction\n",
    "\n",
    "seed = np.copy(binaryOtsu)\n",
    "seed[1:-1, 1:-1] = binaryOtsu.max()\n",
    "mask = binaryOtsu\n",
    "\n",
    "filled = reconstruction(seed, mask, method='erosion')\n",
    "\n",
    "subShow(filled, binaryOtsu)"
   ]
  },
  {
   "cell_type": "code",
   "execution_count": null,
   "id": "8c424955",
   "metadata": {},
   "outputs": [],
   "source": [
    "import napari\n",
    "\n",
    "viewer1 = napari.view_image(rawGray[0,...])  # visualize the volume in layers\n",
    "napari.run() "
   ]
  },
  {
   "cell_type": "code",
   "execution_count": null,
   "id": "4d890079",
   "metadata": {},
   "outputs": [],
   "source": []
  }
 ],
 "metadata": {
  "kernelspec": {
   "display_name": "Python 3 (ipykernel)",
   "language": "python",
   "name": "python3"
  },
  "language_info": {
   "codemirror_mode": {
    "name": "ipython",
    "version": 3
   },
   "file_extension": ".py",
   "mimetype": "text/x-python",
   "name": "python",
   "nbconvert_exporter": "python",
   "pygments_lexer": "ipython3",
   "version": "3.7.13"
  },
  "varInspector": {
   "cols": {
    "lenName": 16,
    "lenType": 16,
    "lenVar": 40
   },
   "kernels_config": {
    "python": {
     "delete_cmd_postfix": "",
     "delete_cmd_prefix": "del ",
     "library": "var_list.py",
     "varRefreshCmd": "print(var_dic_list())"
    },
    "r": {
     "delete_cmd_postfix": ") ",
     "delete_cmd_prefix": "rm(",
     "library": "var_list.r",
     "varRefreshCmd": "cat(var_dic_list()) "
    }
   },
   "position": {
    "height": "438.825px",
    "left": "794.963px",
    "right": "20px",
    "top": "36.9625px",
    "width": "600px"
   },
   "types_to_exclude": [
    "module",
    "function",
    "builtin_function_or_method",
    "instance",
    "_Feature"
   ],
   "window_display": false
  }
 },
 "nbformat": 4,
 "nbformat_minor": 5
}
